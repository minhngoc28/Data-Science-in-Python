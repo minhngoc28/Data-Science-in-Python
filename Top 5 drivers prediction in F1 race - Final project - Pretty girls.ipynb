{
  "cells": [
    {
      "cell_type": "code",
      "source": [
        "# Team's nickname: Pretty Girls\n",
        "#1 Thi Minh Ngoc Dao - 131112\n",
        "#2 Joanna Marie Corpuz - 131120\n",
        "#3 LI XINYI - 131082"
      ],
      "outputs": [],
      "execution_count": 1,
      "metadata": {},
      "id": "70832ab5-6f2d-42ee-9aa9-d4b4fd62179d"
    },
    {
      "cell_type": "code",
      "source": [
        "# Data source: \"https://github.com/toUpperCase78/formula1-datasets/tree/master\"\n",
        "# Data of formula1_season_raceResults from 2021 to 2024\n",
        "\n",
        "# The results of the race: \n",
        "# Drivers prediction who will take the first 5 places in the Formula 1 race,which will take place on May 19:\n",
        "     #1 Max Verstappen\n",
        "     #2 Lewis Hamilton\n",
        "     #3 Charles Leclerc\n",
        "     #4 Sergio Perez\n",
        "     #5 Carlos Sainz\n",
        "\n",
        "# The model used in this approach is a Random Forest Classifier. \n",
        "# Variables: \n",
        "#1 avg_start_pos: The average Starting Grid of the driver across all previous races in the season.\n",
        "#2 avg_finish_pos: The average finishing position of the driver across all previous races in the season.\n",
        "#3 team_performance: A performance metric for the driver's team based on the team's average points.\n"
      ],
      "outputs": [],
      "execution_count": 2,
      "metadata": {},
      "id": "6d22449c"
    },
    {
      "cell_type": "code",
      "source": [
        "# Import Necessary Libraries\n",
        "import pandas as pd\n",
        "import numpy as np\n",
        "from sklearn.model_selection import train_test_split, GridSearchCV\n",
        "from sklearn.ensemble import RandomForestClassifier\n",
        "from sklearn.metrics import classification_report,accuracy_score"
      ],
      "outputs": [],
      "execution_count": 3,
      "metadata": {},
      "id": "99979e29"
    },
    {
      "cell_type": "code",
      "source": [
        "## Dataset preprocessing"
      ],
      "outputs": [],
      "execution_count": 4,
      "metadata": {},
      "id": "d3a3a253"
    },
    {
      "cell_type": "code",
      "source": [
        "def load_data():\n",
        "    df2021 = pd.read_csv(r'/Users/macbook/Downloads/formula1_2021season_raceResults.csv')\n",
        "    df2022 = pd.read_csv(r'/Users/macbook/Downloads/formula1_2022season_raceResults.csv')\n",
        "    df2023 = pd.read_csv(r'/Users/macbook/Downloads/formula1_2023season_raceResults.csv')\n",
        "    df2024 = pd.read_csv(r'/Users/macbook/Downloads/formula1_2024season_raceResults.csv')\n",
        "    return pd.concat([df2021, df2022, df2023, df2024])\n",
        "\n",
        "df = load_data()\n",
        "df.head()"
      ],
      "outputs": [
        {
          "output_type": "execute_result",
          "execution_count": 5,
          "data": {
            "text/html": "<div>\n<style scoped>\n    .dataframe tbody tr th:only-of-type {\n        vertical-align: middle;\n    }\n\n    .dataframe tbody tr th {\n        vertical-align: top;\n    }\n\n    .dataframe thead th {\n        text-align: right;\n    }\n</style>\n<table border=\"1\" class=\"dataframe\">\n  <thead>\n    <tr style=\"text-align: right;\">\n      <th></th>\n      <th>Track</th>\n      <th>Position</th>\n      <th>No</th>\n      <th>Driver</th>\n      <th>Team</th>\n      <th>Starting Grid</th>\n      <th>Laps</th>\n      <th>Time/Retired</th>\n      <th>Points</th>\n      <th>+1 Pt</th>\n      <th>Fastest Lap</th>\n      <th>Set Fastest Lap</th>\n      <th>Fastest Lap Time</th>\n    </tr>\n  </thead>\n  <tbody>\n    <tr>\n      <th>0</th>\n      <td>Bahrain</td>\n      <td>1</td>\n      <td>44</td>\n      <td>Lewis Hamilton</td>\n      <td>Mercedes</td>\n      <td>2.0</td>\n      <td>56</td>\n      <td>1:32:03.897</td>\n      <td>25.0</td>\n      <td>No</td>\n      <td>1:34.015</td>\n      <td>NaN</td>\n      <td>NaN</td>\n    </tr>\n    <tr>\n      <th>1</th>\n      <td>Bahrain</td>\n      <td>2</td>\n      <td>33</td>\n      <td>Max Verstappen</td>\n      <td>Red Bull Racing Honda</td>\n      <td>1.0</td>\n      <td>56</td>\n      <td>+0.745</td>\n      <td>18.0</td>\n      <td>No</td>\n      <td>1:33.228</td>\n      <td>NaN</td>\n      <td>NaN</td>\n    </tr>\n    <tr>\n      <th>2</th>\n      <td>Bahrain</td>\n      <td>3</td>\n      <td>77</td>\n      <td>Valtteri Bottas</td>\n      <td>Mercedes</td>\n      <td>3.0</td>\n      <td>56</td>\n      <td>+37.383</td>\n      <td>16.0</td>\n      <td>Yes</td>\n      <td>1:32.090</td>\n      <td>NaN</td>\n      <td>NaN</td>\n    </tr>\n    <tr>\n      <th>3</th>\n      <td>Bahrain</td>\n      <td>4</td>\n      <td>4</td>\n      <td>Lando Norris</td>\n      <td>McLaren Mercedes</td>\n      <td>7.0</td>\n      <td>56</td>\n      <td>+46.466</td>\n      <td>12.0</td>\n      <td>No</td>\n      <td>1:34.396</td>\n      <td>NaN</td>\n      <td>NaN</td>\n    </tr>\n    <tr>\n      <th>4</th>\n      <td>Bahrain</td>\n      <td>5</td>\n      <td>11</td>\n      <td>Sergio Perez</td>\n      <td>Red Bull Racing Honda</td>\n      <td>11.0</td>\n      <td>56</td>\n      <td>+52.047</td>\n      <td>10.0</td>\n      <td>No</td>\n      <td>1:33.970</td>\n      <td>NaN</td>\n      <td>NaN</td>\n    </tr>\n  </tbody>\n</table>\n</div>",
            "text/plain": "     Track Position  No           Driver                   Team  \\\n0  Bahrain        1  44   Lewis Hamilton               Mercedes   \n1  Bahrain        2  33   Max Verstappen  Red Bull Racing Honda   \n2  Bahrain        3  77  Valtteri Bottas               Mercedes   \n3  Bahrain        4   4     Lando Norris       McLaren Mercedes   \n4  Bahrain        5  11     Sergio Perez  Red Bull Racing Honda   \n\n   Starting Grid  Laps Time/Retired  Points +1 Pt Fastest Lap Set Fastest Lap  \\\n0            2.0    56  1:32:03.897    25.0    No    1:34.015             NaN   \n1            1.0    56       +0.745    18.0    No    1:33.228             NaN   \n2            3.0    56      +37.383    16.0   Yes    1:32.090             NaN   \n3            7.0    56      +46.466    12.0    No    1:34.396             NaN   \n4           11.0    56      +52.047    10.0    No    1:33.970             NaN   \n\n  Fastest Lap Time  \n0              NaN  \n1              NaN  \n2              NaN  \n3              NaN  \n4              NaN  "
          },
          "metadata": {}
        }
      ],
      "execution_count": 5,
      "metadata": {},
      "id": "245c5835"
    },
    {
      "cell_type": "code",
      "source": [
        "#Checking numeric columns\n",
        "df.describe(include=[np.number])"
      ],
      "outputs": [
        {
          "output_type": "execute_result",
          "execution_count": 6,
          "data": {
            "text/html": "<div>\n<style scoped>\n    .dataframe tbody tr th:only-of-type {\n        vertical-align: middle;\n    }\n\n    .dataframe tbody tr th {\n        vertical-align: top;\n    }\n\n    .dataframe thead th {\n        text-align: right;\n    }\n</style>\n<table border=\"1\" class=\"dataframe\">\n  <thead>\n    <tr style=\"text-align: right;\">\n      <th></th>\n      <th>No</th>\n      <th>Starting Grid</th>\n      <th>Laps</th>\n      <th>Points</th>\n    </tr>\n  </thead>\n  <tbody>\n    <tr>\n      <th>count</th>\n      <td>1439.000000</td>\n      <td>1438.000000</td>\n      <td>1439.000000</td>\n      <td>1439.000000</td>\n    </tr>\n    <tr>\n      <th>mean</th>\n      <td>27.350938</td>\n      <td>10.488873</td>\n      <td>53.977067</td>\n      <td>5.062196</td>\n    </tr>\n    <tr>\n      <th>std</th>\n      <td>23.906252</td>\n      <td>5.765984</td>\n      <td>17.610613</td>\n      <td>7.224167</td>\n    </tr>\n    <tr>\n      <th>min</th>\n      <td>1.000000</td>\n      <td>1.000000</td>\n      <td>0.000000</td>\n      <td>0.000000</td>\n    </tr>\n    <tr>\n      <th>25%</th>\n      <td>10.000000</td>\n      <td>5.250000</td>\n      <td>51.000000</td>\n      <td>0.000000</td>\n    </tr>\n    <tr>\n      <th>50%</th>\n      <td>20.000000</td>\n      <td>10.000000</td>\n      <td>57.000000</td>\n      <td>0.500000</td>\n    </tr>\n    <tr>\n      <th>75%</th>\n      <td>44.000000</td>\n      <td>15.000000</td>\n      <td>66.000000</td>\n      <td>9.000000</td>\n    </tr>\n    <tr>\n      <th>max</th>\n      <td>99.000000</td>\n      <td>20.000000</td>\n      <td>78.000000</td>\n      <td>26.000000</td>\n    </tr>\n  </tbody>\n</table>\n</div>",
            "text/plain": "                No  Starting Grid         Laps       Points\ncount  1439.000000    1438.000000  1439.000000  1439.000000\nmean     27.350938      10.488873    53.977067     5.062196\nstd      23.906252       5.765984    17.610613     7.224167\nmin       1.000000       1.000000     0.000000     0.000000\n25%      10.000000       5.250000    51.000000     0.000000\n50%      20.000000      10.000000    57.000000     0.500000\n75%      44.000000      15.000000    66.000000     9.000000\nmax      99.000000      20.000000    78.000000    26.000000"
          },
          "metadata": {}
        }
      ],
      "execution_count": 6,
      "metadata": {},
      "id": "2606ab24"
    },
    {
      "cell_type": "code",
      "source": [
        "#Converting columns to numeric\n",
        "df['Position'] = pd.to_numeric(df['Position'], errors='coerce')\n",
        "df.shape"
      ],
      "outputs": [
        {
          "output_type": "execute_result",
          "execution_count": 7,
          "data": {
            "text/plain": "(1439, 13)"
          },
          "metadata": {}
        }
      ],
      "execution_count": 7,
      "metadata": {},
      "id": "aeaed9ca"
    },
    {
      "cell_type": "code",
      "source": [
        "#Checking categorical columns\n",
        "df.describe(include=['O'])"
      ],
      "outputs": [
        {
          "output_type": "execute_result",
          "execution_count": 8,
          "data": {
            "text/html": "<div>\n<style scoped>\n    .dataframe tbody tr th:only-of-type {\n        vertical-align: middle;\n    }\n\n    .dataframe tbody tr th {\n        vertical-align: top;\n    }\n\n    .dataframe thead th {\n        text-align: right;\n    }\n</style>\n<table border=\"1\" class=\"dataframe\">\n  <thead>\n    <tr style=\"text-align: right;\">\n      <th></th>\n      <th>Track</th>\n      <th>Driver</th>\n      <th>Team</th>\n      <th>Time/Retired</th>\n      <th>+1 Pt</th>\n      <th>Fastest Lap</th>\n      <th>Set Fastest Lap</th>\n      <th>Fastest Lap Time</th>\n    </tr>\n  </thead>\n  <tbody>\n    <tr>\n      <th>count</th>\n      <td>1439</td>\n      <td>1439</td>\n      <td>1439</td>\n      <td>1439</td>\n      <td>880</td>\n      <td>829</td>\n      <td>559</td>\n      <td>543</td>\n    </tr>\n    <tr>\n      <th>unique</th>\n      <td>29</td>\n      <td>30</td>\n      <td>19</td>\n      <td>878</td>\n      <td>2</td>\n      <td>815</td>\n      <td>2</td>\n      <td>536</td>\n    </tr>\n    <tr>\n      <th>top</th>\n      <td>Bahrain</td>\n      <td>Lewis Hamilton</td>\n      <td>Mercedes</td>\n      <td>+1 lap</td>\n      <td>No</td>\n      <td>1:31.488</td>\n      <td>No</td>\n      <td>1:16.666</td>\n    </tr>\n    <tr>\n      <th>freq</th>\n      <td>80</td>\n      <td>72</td>\n      <td>144</td>\n      <td>304</td>\n      <td>842</td>\n      <td>2</td>\n      <td>531</td>\n      <td>2</td>\n    </tr>\n  </tbody>\n</table>\n</div>",
            "text/plain": "          Track          Driver      Team Time/Retired +1 Pt Fastest Lap  \\\ncount      1439            1439      1439         1439   880         829   \nunique       29              30        19          878     2         815   \ntop     Bahrain  Lewis Hamilton  Mercedes       +1 lap    No    1:31.488   \nfreq         80              72       144          304   842           2   \n\n       Set Fastest Lap Fastest Lap Time  \ncount              559              543  \nunique               2              536  \ntop                 No         1:16.666  \nfreq               531                2  "
          },
          "metadata": {}
        }
      ],
      "execution_count": 8,
      "metadata": {},
      "id": "e5bfa3af"
    },
    {
      "cell_type": "code",
      "source": [
        "#Dropping columns\n",
        "df.drop(['+1 Pt', 'Set Fastest Lap', 'Fastest Lap Time', 'Fastest Lap'],\n",
        "             axis=1,\n",
        "             inplace=True)"
      ],
      "outputs": [],
      "execution_count": 9,
      "metadata": {},
      "id": "15873c0f"
    },
    {
      "cell_type": "code",
      "source": [
        "#Check null values\n",
        "df.isnull().sum()"
      ],
      "outputs": [
        {
          "output_type": "execute_result",
          "execution_count": 10,
          "data": {
            "text/plain": "Track              0\nPosition         177\nNo                 0\nDriver             0\nTeam               0\nStarting Grid      1\nLaps               0\nTime/Retired       0\nPoints             0\ndtype: int64"
          },
          "metadata": {}
        }
      ],
      "execution_count": 10,
      "metadata": {},
      "id": "14dddc71"
    },
    {
      "cell_type": "code",
      "source": [
        "#Dropping missing values\n",
        "df.dropna(inplace=True)\n",
        "df.shape"
      ],
      "outputs": [
        {
          "output_type": "execute_result",
          "execution_count": 11,
          "data": {
            "text/plain": "(1261, 9)"
          },
          "metadata": {}
        }
      ],
      "execution_count": 11,
      "metadata": {},
      "id": "0bbd5d1a"
    },
    {
      "cell_type": "code",
      "source": [
        "df.isna().any()"
      ],
      "outputs": [
        {
          "output_type": "execute_result",
          "execution_count": 12,
          "data": {
            "text/plain": "Track            False\nPosition         False\nNo               False\nDriver           False\nTeam             False\nStarting Grid    False\nLaps             False\nTime/Retired     False\nPoints           False\ndtype: bool"
          },
          "metadata": {}
        }
      ],
      "execution_count": 12,
      "metadata": {},
      "id": "86bb98b3"
    },
    {
      "cell_type": "code",
      "source": [
        "# Feature engineering to create new columns based on existing data\n",
        "df = df.copy()  # Make a copy to avoid SettingWithCopyWarning\n",
        "df['avg_start_pos'] = df.groupby('Driver')['Starting Grid'].transform('mean')\n",
        "df['avg_finish_pos'] = df.groupby('Driver')['Position'].transform('mean')\n",
        "df.loc[:, 'team_performance'] = df.groupby('Team')['Points'].transform(lambda x: x.rolling(window=5, min_periods=1).mean())\n",
        "df.loc[:, 'finish_in_top_5']=(df['Position'] <= 5).astype(int) \n",
        "                                                                \n",
        "# Select features and target\n",
        "features = ['avg_start_pos', 'avg_finish_pos', 'team_performance','Driver','Team','Track']\n",
        "target = 'finish_in_top_5'  # Binary classification (1 if finish in top 5, else 0)\n",
        "\n",
        "# Train a model to predict top 5 finishes\n",
        "X = df[features]\n",
        "y = df[target]\n",
        "\n",
        "df"
      ],
      "outputs": [
        {
          "output_type": "execute_result",
          "execution_count": 13,
          "data": {
            "text/html": "<div>\n<style scoped>\n    .dataframe tbody tr th:only-of-type {\n        vertical-align: middle;\n    }\n\n    .dataframe tbody tr th {\n        vertical-align: top;\n    }\n\n    .dataframe thead th {\n        text-align: right;\n    }\n</style>\n<table border=\"1\" class=\"dataframe\">\n  <thead>\n    <tr style=\"text-align: right;\">\n      <th></th>\n      <th>Track</th>\n      <th>Position</th>\n      <th>No</th>\n      <th>Driver</th>\n      <th>Team</th>\n      <th>Starting Grid</th>\n      <th>Laps</th>\n      <th>Time/Retired</th>\n      <th>Points</th>\n      <th>avg_start_pos</th>\n      <th>avg_finish_pos</th>\n      <th>team_performance</th>\n      <th>finish_in_top_5</th>\n    </tr>\n  </thead>\n  <tbody>\n    <tr>\n      <th>0</th>\n      <td>Bahrain</td>\n      <td>1.0</td>\n      <td>44</td>\n      <td>Lewis Hamilton</td>\n      <td>Mercedes</td>\n      <td>2.0</td>\n      <td>56</td>\n      <td>1:32:03.897</td>\n      <td>25.0</td>\n      <td>5.686567</td>\n      <td>4.611940</td>\n      <td>25.0</td>\n      <td>1</td>\n    </tr>\n    <tr>\n      <th>1</th>\n      <td>Bahrain</td>\n      <td>2.0</td>\n      <td>33</td>\n      <td>Max Verstappen</td>\n      <td>Red Bull Racing Honda</td>\n      <td>1.0</td>\n      <td>56</td>\n      <td>+0.745</td>\n      <td>18.0</td>\n      <td>3.058824</td>\n      <td>2.147059</td>\n      <td>18.0</td>\n      <td>1</td>\n    </tr>\n    <tr>\n      <th>2</th>\n      <td>Bahrain</td>\n      <td>3.0</td>\n      <td>77</td>\n      <td>Valtteri Bottas</td>\n      <td>Mercedes</td>\n      <td>3.0</td>\n      <td>56</td>\n      <td>+37.383</td>\n      <td>16.0</td>\n      <td>10.627119</td>\n      <td>10.186441</td>\n      <td>20.5</td>\n      <td>1</td>\n    </tr>\n    <tr>\n      <th>3</th>\n      <td>Bahrain</td>\n      <td>4.0</td>\n      <td>4</td>\n      <td>Lando Norris</td>\n      <td>McLaren Mercedes</td>\n      <td>7.0</td>\n      <td>56</td>\n      <td>+46.466</td>\n      <td>12.0</td>\n      <td>7.294118</td>\n      <td>7.000000</td>\n      <td>12.0</td>\n      <td>1</td>\n    </tr>\n    <tr>\n      <th>4</th>\n      <td>Bahrain</td>\n      <td>5.0</td>\n      <td>11</td>\n      <td>Sergio Perez</td>\n      <td>Red Bull Racing Honda</td>\n      <td>11.0</td>\n      <td>56</td>\n      <td>+52.047</td>\n      <td>10.0</td>\n      <td>6.818182</td>\n      <td>4.833333</td>\n      <td>14.0</td>\n      <td>1</td>\n    </tr>\n    <tr>\n      <th>...</th>\n      <td>...</td>\n      <td>...</td>\n      <td>...</td>\n      <td>...</td>\n      <td>...</td>\n      <td>...</td>\n      <td>...</td>\n      <td>...</td>\n      <td>...</td>\n      <td>...</td>\n      <td>...</td>\n      <td>...</td>\n      <td>...</td>\n    </tr>\n    <tr>\n      <th>113</th>\n      <td>Miami</td>\n      <td>15.0</td>\n      <td>3</td>\n      <td>Daniel Ricciardo</td>\n      <td>RB Honda RBPT</td>\n      <td>20.0</td>\n      <td>57</td>\n      <td>+50.956</td>\n      <td>0.0</td>\n      <td>11.490196</td>\n      <td>10.509804</td>\n      <td>2.6</td>\n      <td>0</td>\n    </tr>\n    <tr>\n      <th>114</th>\n      <td>Miami</td>\n      <td>16.0</td>\n      <td>77</td>\n      <td>Valtteri Bottas</td>\n      <td>Kick Sauber Ferrari</td>\n      <td>16.0</td>\n      <td>57</td>\n      <td>+52.356</td>\n      <td>0.0</td>\n      <td>10.627119</td>\n      <td>10.186441</td>\n      <td>0.0</td>\n      <td>0</td>\n    </tr>\n    <tr>\n      <th>115</th>\n      <td>Miami</td>\n      <td>17.0</td>\n      <td>18</td>\n      <td>Lance Stroll</td>\n      <td>Aston Martin Aramco Mercedes</td>\n      <td>11.0</td>\n      <td>57</td>\n      <td>+55.173</td>\n      <td>0.0</td>\n      <td>13.435484</td>\n      <td>10.677419</td>\n      <td>1.8</td>\n      <td>0</td>\n    </tr>\n    <tr>\n      <th>116</th>\n      <td>Miami</td>\n      <td>18.0</td>\n      <td>23</td>\n      <td>Alexander Albon</td>\n      <td>Williams Mercedes</td>\n      <td>14.0</td>\n      <td>57</td>\n      <td>+76.091</td>\n      <td>0.0</td>\n      <td>13.475000</td>\n      <td>12.100000</td>\n      <td>0.0</td>\n      <td>0</td>\n    </tr>\n    <tr>\n      <th>117</th>\n      <td>Miami</td>\n      <td>19.0</td>\n      <td>20</td>\n      <td>Kevin Magnussen</td>\n      <td>Haas Ferrari</td>\n      <td>18.0</td>\n      <td>57</td>\n      <td>+84.683</td>\n      <td>0.0</td>\n      <td>14.116279</td>\n      <td>14.093023</td>\n      <td>0.2</td>\n      <td>0</td>\n    </tr>\n  </tbody>\n</table>\n<p>1261 rows × 13 columns</p>\n</div>",
            "text/plain": "       Track  Position  No            Driver                          Team  \\\n0    Bahrain       1.0  44    Lewis Hamilton                      Mercedes   \n1    Bahrain       2.0  33    Max Verstappen         Red Bull Racing Honda   \n2    Bahrain       3.0  77   Valtteri Bottas                      Mercedes   \n3    Bahrain       4.0   4      Lando Norris              McLaren Mercedes   \n4    Bahrain       5.0  11      Sergio Perez         Red Bull Racing Honda   \n..       ...       ...  ..               ...                           ...   \n113    Miami      15.0   3  Daniel Ricciardo                 RB Honda RBPT   \n114    Miami      16.0  77   Valtteri Bottas           Kick Sauber Ferrari   \n115    Miami      17.0  18      Lance Stroll  Aston Martin Aramco Mercedes   \n116    Miami      18.0  23   Alexander Albon             Williams Mercedes   \n117    Miami      19.0  20   Kevin Magnussen                  Haas Ferrari   \n\n     Starting Grid  Laps Time/Retired  Points  avg_start_pos  avg_finish_pos  \\\n0              2.0    56  1:32:03.897    25.0       5.686567        4.611940   \n1              1.0    56       +0.745    18.0       3.058824        2.147059   \n2              3.0    56      +37.383    16.0      10.627119       10.186441   \n3              7.0    56      +46.466    12.0       7.294118        7.000000   \n4             11.0    56      +52.047    10.0       6.818182        4.833333   \n..             ...   ...          ...     ...            ...             ...   \n113           20.0    57      +50.956     0.0      11.490196       10.509804   \n114           16.0    57      +52.356     0.0      10.627119       10.186441   \n115           11.0    57      +55.173     0.0      13.435484       10.677419   \n116           14.0    57      +76.091     0.0      13.475000       12.100000   \n117           18.0    57      +84.683     0.0      14.116279       14.093023   \n\n     team_performance  finish_in_top_5  \n0                25.0                1  \n1                18.0                1  \n2                20.5                1  \n3                12.0                1  \n4                14.0                1  \n..                ...              ...  \n113               2.6                0  \n114               0.0                0  \n115               1.8                0  \n116               0.0                0  \n117               0.2                0  \n\n[1261 rows x 13 columns]"
          },
          "metadata": {}
        }
      ],
      "execution_count": 13,
      "metadata": {},
      "id": "164dfd30"
    },
    {
      "cell_type": "code",
      "source": [
        "# Train/test split\n",
        "X_train, X_test, y_train, y_test = train_test_split(X, y, test_size=0.2, random_state=42)\n",
        "\n",
        "X_train_features = X_train.drop(columns=['Driver', 'Team','Track'])\n",
        "X_test_features = X_test.drop(columns=['Driver', 'Team','Track'])\n",
        "\n",
        "# The model used in this approach is a Random Forest Classifier. \n",
        "# Variables: \n",
        "#1 avg_start_pos: The average Starting Grid of the driver across all previous races in the season.\n",
        "#2 avg_finish_pos: The average finishing position of the driver across all previous races in the season.\n",
        "#3 team_performance: A performance metric for the driver's team based on the team's average points.\n",
        "\n",
        "# Model training\n",
        "grid = {'n_estimators': [50, 100, 200, 300],\n",
        "        'max_features': np.linspace(1, X_train.shape[1], 5).astype(int)}\n",
        "\n",
        "grid_search = GridSearchCV(RandomForestClassifier(random_state=42),\n",
        "                                                 param_grid=grid,\n",
        "                                                 scoring='accuracy',\n",
        "                                                 n_jobs=1,\n",
        "                                                 cv=5)\n",
        "grid_search.fit(X_train_features, y_train)\n",
        "\n",
        "# Best model\n",
        "best_model = grid_search.best_estimator_\n",
        "\n",
        "# Predictions\n",
        "y_pred = best_model.predict(X_test_features)\n",
        "\n",
        "# Evaluation\n",
        "print(\"Accuracy:\", accuracy_score(y_test, y_pred))\n",
        "print(classification_report(y_test, y_pred))"
      ],
      "outputs": [
        {
          "output_type": "stream",
          "name": "stdout",
          "text": "Accuracy: 0.8853754940711462\n              precision    recall  f1-score   support\n\n           0       0.90      0.94      0.92       179\n           1       0.84      0.76      0.79        74\n\n    accuracy                           0.89       253\n   macro avg       0.87      0.85      0.86       253\nweighted avg       0.88      0.89      0.88       253\n\n"
        }
      ],
      "execution_count": 14,
      "metadata": {},
      "id": "d132daa0"
    },
    {
      "cell_type": "code",
      "source": [
        "# Predicting probabilities on the test set\n",
        "X_test['probability'] = best_model.predict_proba(X_test_features)[:, 1]\n",
        "\n",
        "# Predict top 5 drivers based on the model's probabilities and average finish position\n",
        "X_test_sorted = X_test.sort_values(by=['probability', 'avg_finish_pos'], ascending=[False, True])\n",
        "top_5_unique_drivers = X_test_sorted.drop_duplicates(subset=['Driver']).head(5)\n",
        "top_5_unique_drivers"
      ],
      "outputs": [
        {
          "output_type": "execute_result",
          "execution_count": 15,
          "data": {
            "text/html": "<div>\n<style scoped>\n    .dataframe tbody tr th:only-of-type {\n        vertical-align: middle;\n    }\n\n    .dataframe tbody tr th {\n        vertical-align: top;\n    }\n\n    .dataframe thead th {\n        text-align: right;\n    }\n</style>\n<table border=\"1\" class=\"dataframe\">\n  <thead>\n    <tr style=\"text-align: right;\">\n      <th></th>\n      <th>avg_start_pos</th>\n      <th>avg_finish_pos</th>\n      <th>team_performance</th>\n      <th>Driver</th>\n      <th>Team</th>\n      <th>Track</th>\n      <th>probability</th>\n    </tr>\n  </thead>\n  <tbody>\n    <tr>\n      <th>380</th>\n      <td>3.058824</td>\n      <td>2.147059</td>\n      <td>21.0</td>\n      <td>Max Verstappen</td>\n      <td>Red Bull Racing RBPT</td>\n      <td>Mexico</td>\n      <td>1.0</td>\n    </tr>\n    <tr>\n      <th>222</th>\n      <td>5.686567</td>\n      <td>4.611940</td>\n      <td>15.5</td>\n      <td>Lewis Hamilton</td>\n      <td>Mercedes</td>\n      <td>Belgium</td>\n      <td>1.0</td>\n    </tr>\n    <tr>\n      <th>21</th>\n      <td>5.290323</td>\n      <td>4.806452</td>\n      <td>15.8</td>\n      <td>Charles Leclerc</td>\n      <td>Ferrari</td>\n      <td>Saudi Arabia</td>\n      <td>1.0</td>\n    </tr>\n    <tr>\n      <th>402</th>\n      <td>6.818182</td>\n      <td>4.833333</td>\n      <td>20.4</td>\n      <td>Sergio Perez</td>\n      <td>Red Bull Racing Honda RBPT</td>\n      <td>Las Vegas</td>\n      <td>1.0</td>\n    </tr>\n    <tr>\n      <th>103</th>\n      <td>6.111111</td>\n      <td>5.428571</td>\n      <td>15.8</td>\n      <td>Carlos Sainz</td>\n      <td>Ferrari</td>\n      <td>Spain</td>\n      <td>1.0</td>\n    </tr>\n  </tbody>\n</table>\n</div>",
            "text/plain": "     avg_start_pos  avg_finish_pos  team_performance           Driver  \\\n380       3.058824        2.147059              21.0   Max Verstappen   \n222       5.686567        4.611940              15.5   Lewis Hamilton   \n21        5.290323        4.806452              15.8  Charles Leclerc   \n402       6.818182        4.833333              20.4     Sergio Perez   \n103       6.111111        5.428571              15.8     Carlos Sainz   \n\n                           Team         Track  probability  \n380        Red Bull Racing RBPT        Mexico          1.0  \n222                    Mercedes       Belgium          1.0  \n21                      Ferrari  Saudi Arabia          1.0  \n402  Red Bull Racing Honda RBPT     Las Vegas          1.0  \n103                     Ferrari         Spain          1.0  "
          },
          "metadata": {}
        }
      ],
      "execution_count": 15,
      "metadata": {},
      "id": "f843bd3f"
    },
    {
      "cell_type": "code",
      "source": [
        "print(\"Drivers prediction who will take the first 5 places in the Formula 1 race,which will take place on May 19:\")\n",
        "top_5_unique_drivers['Driver']"
      ],
      "outputs": [
        {
          "output_type": "stream",
          "name": "stdout",
          "text": "Drivers prediction who will take the first 5 places in the Formula 1 race,which will take place on May 19:\n"
        },
        {
          "output_type": "execute_result",
          "execution_count": 16,
          "data": {
            "text/plain": "380     Max Verstappen\n222     Lewis Hamilton\n21     Charles Leclerc\n402       Sergio Perez\n103       Carlos Sainz\nName: Driver, dtype: object"
          },
          "metadata": {}
        }
      ],
      "execution_count": 16,
      "metadata": {
        "scrolled": true
      },
      "id": "8f74b839-cfaf-4e2d-a891-85efc866d69a"
    },
    {
      "cell_type": "code",
      "source": [],
      "outputs": [],
      "execution_count": null,
      "metadata": {},
      "id": "6fe70a52"
    }
  ],
  "metadata": {
    "kernelspec": {
      "display_name": "Python 3 (ipykernel)",
      "language": "python",
      "name": "python3"
    },
    "language_info": {
      "codemirror_mode": {
        "name": "ipython",
        "version": 3
      },
      "file_extension": ".py",
      "mimetype": "text/x-python",
      "name": "python",
      "nbconvert_exporter": "python",
      "pygments_lexer": "ipython3",
      "version": "3.11.5"
    },
    "nteract": {
      "version": "nteract-front-end@1.0.0"
    }
  },
  "nbformat": 4,
  "nbformat_minor": 5
}